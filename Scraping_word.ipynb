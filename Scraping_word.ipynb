{
 "cells": [
  {
   "cell_type": "code",
   "execution_count": 37,
   "metadata": {},
   "outputs": [],
   "source": [
    "import urllib.request, urllib.error\n",
    "from bs4 import BeautifulSoup"
   ]
  },
  {
   "cell_type": "code",
   "execution_count": 38,
   "metadata": {},
   "outputs": [],
   "source": [
    "import ssl\n",
    "ssl._create_default_https_context = ssl._create_unverified_context"
   ]
  },
  {
   "cell_type": "code",
   "execution_count": 57,
   "metadata": {},
   "outputs": [],
   "source": [
    "url = \"https://icanhazwordz.appspot.com/\""
   ]
  },
  {
   "cell_type": "code",
   "execution_count": 58,
   "metadata": {},
   "outputs": [],
   "source": [
    "req = urllib.request.urlopen(url=url)"
   ]
  },
  {
   "cell_type": "code",
   "execution_count": 59,
   "metadata": {},
   "outputs": [],
   "source": [
    "soup = BeautifulSoup(req.read())"
   ]
  },
  {
   "cell_type": "code",
   "execution_count": 60,
   "metadata": {},
   "outputs": [
    {
     "name": "stdout",
     "output_type": "stream",
     "text": [
      "<html>\n",
      " <head>\n",
      "  <title>\n",
      "   I can haz wordz\n",
      "  </title>\n",
      "  <link href=\"/favicon.ico\" rel=\"icon\" type=\"image/png\"/>\n",
      "  <link href=\"https://fonts.googleapis.com/css?family=Inconsolata|Titillium+Web:300\" rel=\"stylesheet\"/>\n",
      "  <link href=\"/pure/pure-min.css\" rel=\"stylesheet\">\n",
      "   <link href=\"/pure/tables.css\" rel=\"stylesheet\"/>\n",
      "   <link href=\"/css/normal.css\" rel=\"stylesheet\"/>\n",
      "  </link>\n",
      " </head>\n",
      " <body>\n",
      "  <div style=\"position: absolute; top: 15px; right: 15px;\">\n",
      "   <a href=\"https://accounts.google.com/ServiceLogin?service=ah&amp;passive=true&amp;continue=https://appengine.google.com/_ah/conflogin%3Fcontinue%3Dhttps://icanhazwordz.appspot.com/\">\n",
      "    Login\n",
      "   </a>\n",
      "  </div>\n",
      "  <table border=\"2\">\n",
      "   <td style=\"padding: 10px 10px 10px 10px;\" valign=\"top\" width=\"75%\">\n",
      "    <table border=\"0\">\n",
      "     <tr>\n",
      "      <td align=\"center\" valign=\"middle\">\n",
      "       <div class=\"letter p1\" onclick=\"document.getElementById('MoveField').value+='T';\">\n",
      "        T\n",
      "       </div>\n",
      "      </td>\n",
      "      <td align=\"center\" valign=\"middle\">\n",
      "       <div class=\"letter p1\" onclick=\"document.getElementById('MoveField').value+='R';\">\n",
      "        R\n",
      "       </div>\n",
      "      </td>\n",
      "      <td align=\"center\" valign=\"middle\">\n",
      "       <div class=\"letter p2\" onclick=\"document.getElementById('MoveField').value+='F';\">\n",
      "        F\n",
      "       </div>\n",
      "      </td>\n",
      "      <td align=\"center\" valign=\"middle\">\n",
      "       <div class=\"letter p1\" onclick=\"document.getElementById('MoveField').value+='E';\">\n",
      "        E\n",
      "       </div>\n",
      "      </td>\n",
      "     </tr>\n",
      "     <tr>\n",
      "      <td align=\"center\" valign=\"middle\">\n",
      "       <div class=\"letter p3\" onclick=\"document.getElementById('MoveField').value+='X';\">\n",
      "        X\n",
      "       </div>\n",
      "      </td>\n",
      "      <td align=\"center\" valign=\"middle\">\n",
      "       <div class=\"letter p1\" onclick=\"document.getElementById('MoveField').value+='G';\">\n",
      "        G\n",
      "       </div>\n",
      "      </td>\n",
      "      <td align=\"center\" valign=\"middle\">\n",
      "       <div class=\"letter p2\" onclick=\"document.getElementById('MoveField').value+='L';\">\n",
      "        L\n",
      "       </div>\n",
      "      </td>\n",
      "      <td align=\"center\" valign=\"middle\">\n",
      "       <div class=\"letter p2\" onclick=\"document.getElementById('MoveField').value+='Y';\">\n",
      "        Y\n",
      "       </div>\n",
      "      </td>\n",
      "     </tr>\n",
      "     <tr>\n",
      "      <td align=\"center\" valign=\"middle\">\n",
      "       <div class=\"letter p1\" onclick=\"document.getElementById('MoveField').value+='S';\">\n",
      "        S\n",
      "       </div>\n",
      "      </td>\n",
      "      <td align=\"center\" valign=\"middle\">\n",
      "       <div class=\"letter p1\" onclick=\"document.getElementById('MoveField').value+='N';\">\n",
      "        N\n",
      "       </div>\n",
      "      </td>\n",
      "      <td align=\"center\" valign=\"middle\">\n",
      "       <div class=\"letter p1\" onclick=\"document.getElementById('MoveField').value+='D';\">\n",
      "        D\n",
      "       </div>\n",
      "      </td>\n",
      "      <td align=\"center\" valign=\"middle\">\n",
      "       <div class=\"letter p1\" onclick=\"document.getElementById('MoveField').value+='D';\">\n",
      "        D\n",
      "       </div>\n",
      "      </td>\n",
      "     </tr>\n",
      "     <tr>\n",
      "      <td align=\"center\" valign=\"middle\">\n",
      "       <div class=\"letter p1\" onclick=\"document.getElementById('MoveField').value+='O';\">\n",
      "        O\n",
      "       </div>\n",
      "      </td>\n",
      "      <td align=\"center\" valign=\"middle\">\n",
      "       <div class=\"letter p1\" onclick=\"document.getElementById('MoveField').value+='B';\">\n",
      "        B\n",
      "       </div>\n",
      "      </td>\n",
      "      <td align=\"center\" valign=\"middle\">\n",
      "       <div class=\"letter p1\" onclick=\"document.getElementById('MoveField').value+='N';\">\n",
      "        N\n",
      "       </div>\n",
      "      </td>\n",
      "      <td align=\"center\" valign=\"middle\">\n",
      "       <div class=\"letter p1\" onclick=\"document.getElementById('MoveField').value+='E';\">\n",
      "        E\n",
      "       </div>\n",
      "      </td>\n",
      "     </tr>\n",
      "    </table>\n",
      "    <form method=\"post\">\n",
      "     <input name=\"Seed\" type=\"hidden\" value=\"-5986207669032167149\"/>\n",
      "     <input name=\"Started\" type=\"hidden\" value=\"1558852976\"/>\n",
      "     <input autofocus=\"\" id=\"MoveField\" maxlength=\"16\" name=\"move\" size=\"16\" tabindex=\"1\" type=\"text\"/>\n",
      "     <input style=\"border: none;\" tabindex=\"4\" type=\"reset\"/>\n",
      "     <br/>\n",
      "     <input tabindex=\"2\" type=\"submit\" value=\"Submit\"/>\n",
      "     <input name=\"pass\" style=\"color: red;\" tabindex=\"3\" type=\"submit\" value=\"PASS\"/>\n",
      "    </form>\n",
      "   </td>\n",
      "   <td align=\"center\" width=\"25%\">\n",
      "   </td>\n",
      "  </table>\n",
      "  <hr/>\n",
      "  <table width=\"100%\">\n",
      "   <tr>\n",
      "    <td align=\"left\">\n",
      "     <a href=\"/\">\n",
      "      Start a new game\n",
      "     </a>\n",
      "    </td>\n",
      "    <td align=\"right\">\n",
      "     <a href=\"/highscores\">\n",
      "      High Scores\n",
      "     </a>\n",
      "    </td>\n",
      "   </tr>\n",
      "   <tr>\n",
      "    <td align=\"left\">\n",
      "     <a href=\"/help\">\n",
      "      Help\n",
      "     </a>\n",
      "    </td>\n",
      "   </tr>\n",
      "  </table>\n",
      " </body>\n",
      "</html>\n",
      "\n"
     ]
    }
   ],
   "source": [
    "print(soup.prettify())"
   ]
  },
  {
   "cell_type": "code",
   "execution_count": 61,
   "metadata": {},
   "outputs": [],
   "source": [
    "test = soup.find_all('td')"
   ]
  },
  {
   "cell_type": "code",
   "execution_count": 62,
   "metadata": {},
   "outputs": [
    {
     "name": "stdout",
     "output_type": "stream",
     "text": [
      "T\n",
      "R\n",
      "F\n",
      "E\n",
      "X\n",
      "G\n",
      "L\n",
      "Y\n",
      "S\n",
      "N\n",
      "D\n",
      "D\n",
      "O\n",
      "B\n",
      "N\n",
      "E\n"
     ]
    }
   ],
   "source": [
    "stock = []\n",
    "for t in test:\n",
    "    if t.string!=None and t.string.isupper() :\n",
    "        print(t.string)\n",
    "        stock.append(t.string)"
   ]
  },
  {
   "cell_type": "code",
   "execution_count": 34,
   "metadata": {},
   "outputs": [
    {
     "name": "stdout",
     "output_type": "stream",
     "text": [
      "['J', 'G', 'R', 'F', 'J', 'N', 'C', 'U', 'L', 'D', 'B', 'X', 'T', 'N', 'S', 'O']\n"
     ]
    }
   ],
   "source": [
    "print(stock)"
   ]
  },
  {
   "cell_type": "code",
   "execution_count": 35,
   "metadata": {},
   "outputs": [],
   "source": [
    "stock.sort()"
   ]
  },
  {
   "cell_type": "code",
   "execution_count": 36,
   "metadata": {},
   "outputs": [
    {
     "name": "stdout",
     "output_type": "stream",
     "text": [
      "['B', 'C', 'D', 'F', 'G', 'J', 'J', 'L', 'N', 'N', 'O', 'R', 'S', 'T', 'U', 'X']\n"
     ]
    }
   ],
   "source": [
    "print(stock)"
   ]
  },
  {
   "cell_type": "code",
   "execution_count": 12,
   "metadata": {},
   "outputs": [
    {
     "name": "stdout",
     "output_type": "stream",
     "text": [
      "DGJKNOPRSTTUVYZ\n"
     ]
    }
   ],
   "source": [
    "target = ''.join(stock)\n",
    "print(target)"
   ]
  },
  {
   "cell_type": "code",
   "execution_count": 13,
   "metadata": {},
   "outputs": [],
   "source": [
    "import pandas as pd"
   ]
  },
  {
   "cell_type": "code",
   "execution_count": 14,
   "metadata": {},
   "outputs": [
    {
     "name": "stdout",
     "output_type": "stream",
     "text": [
      "             Word         Changed\n",
      "0     abracadabra     AAAAABBCDRR\n",
      "1     Mahabharata     AAAAABHHMRT\n",
      "2     Guadalajara     AAAAADGJLRU\n",
      "3  baccalaureates  AAAABCCEELRSTU\n",
      "4   baccalaureate   AAAABCCEELRTU\n"
     ]
    }
   ],
   "source": [
    "dictionary = pd.read_csv('master_dictionary.csv')\n",
    "print(dictionary.head(5))"
   ]
  },
  {
   "cell_type": "code",
   "execution_count": null,
   "metadata": {},
   "outputs": [],
   "source": []
  }
 ],
 "metadata": {
  "kernelspec": {
   "display_name": "Python 3",
   "language": "python",
   "name": "python3"
  },
  "language_info": {
   "codemirror_mode": {
    "name": "ipython",
    "version": 3
   },
   "file_extension": ".py",
   "mimetype": "text/x-python",
   "name": "python",
   "nbconvert_exporter": "python",
   "pygments_lexer": "ipython3",
   "version": "3.6.2"
  }
 },
 "nbformat": 4,
 "nbformat_minor": 2
}
