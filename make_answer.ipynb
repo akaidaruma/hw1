{
 "cells": [
  {
   "cell_type": "code",
   "execution_count": 1,
   "metadata": {},
   "outputs": [],
   "source": [
    "import pandas as pd"
   ]
  },
  {
   "cell_type": "code",
   "execution_count": 3,
   "metadata": {},
   "outputs": [
    {
     "name": "stdout",
     "output_type": "stream",
     "text": [
      "             Word         Changed\n",
      "0     abracadabra     aaaaabbcdrr\n",
      "1     Mahabharata     aaaaabhhmrt\n",
      "2     Guadalajara     aaaaadgjlru\n",
      "3  baccalaureates  aaaabcceelrstu\n",
      "4   baccalaureate   aaaabcceelrtu\n"
     ]
    }
   ],
   "source": [
    "dictionary = pd.read_csv('master_dictionary.csv')\n",
    "print(dictionary.head(5))"
   ]
  },
  {
   "cell_type": "code",
   "execution_count": 36,
   "metadata": {},
   "outputs": [],
   "source": [
    "wordlist = list(dictionary['Changed'])\n",
    "ans = list(dictionary['Word'])"
   ]
  },
  {
   "cell_type": "code",
   "execution_count": 137,
   "metadata": {},
   "outputs": [
    {
     "name": "stdout",
     "output_type": "stream",
     "text": [
      "word pannels:\n",
      "nsteglxngrnidtca\n"
     ]
    }
   ],
   "source": [
    "print(\"word pannels:\")\n",
    "target = list(input())"
   ]
  },
  {
   "cell_type": "code",
   "execution_count": 138,
   "metadata": {},
   "outputs": [],
   "source": [
    "target.sort()"
   ]
  },
  {
   "cell_type": "code",
   "execution_count": 141,
   "metadata": {},
   "outputs": [],
   "source": [
    "#この段階ではなさそう\n",
    "target = ''.join(target)\n",
    "#print(target)"
   ]
  },
  {
   "cell_type": "code",
   "execution_count": 142,
   "metadata": {},
   "outputs": [
    {
     "name": "stdout",
     "output_type": "stream",
     "text": [
      "acdeggilnnnrsttx\n"
     ]
    }
   ],
   "source": [
    "#pickupwords = target\n",
    "#pickupwords = ''.join(pickupwords)\n",
    "#print(pickupwords)\n",
    "print(target)"
   ]
  },
  {
   "cell_type": "code",
   "execution_count": 143,
   "metadata": {},
   "outputs": [],
   "source": [
    "import itertools"
   ]
  },
  {
   "cell_type": "code",
   "execution_count": 146,
   "metadata": {},
   "outputs": [],
   "source": [
    "kouho = []"
   ]
  },
  {
   "cell_type": "code",
   "execution_count": 147,
   "metadata": {},
   "outputs": [
    {
     "name": "stdout",
     "output_type": "stream",
     "text": [
      "['acdeggilnnnrstt', 'acdeggilnnnrstx', 'acdeggilnnnrstx', 'acdeggilnnnrttx', 'acdeggilnnnsttx', 'acdeggilnnrsttx', 'acdeggilnnrsttx', 'acdeggilnnrsttx', 'acdegginnnrsttx', 'acdegglnnnrsttx', 'acdegilnnnrsttx', 'acdegilnnnrsttx', 'acdggilnnnrsttx', 'aceggilnnnrsttx', 'adeggilnnnrsttx', 'cdeggilnnnrsttx']\n"
     ]
    }
   ],
   "source": [
    "for x in itertools.combinations(target, 15):\n",
    "    kouho.append(''.join(x))\n",
    "print(kouho)"
   ]
  },
  {
   "cell_type": "code",
   "execution_count": 148,
   "metadata": {},
   "outputs": [],
   "source": [
    "def make_kouho(pannel, num):\n",
    "    kouho = []\n",
    "    for x in itertools.combinations(pannel, num):\n",
    "        kouho.append(''.join(x))\n",
    "    return kouho"
   ]
  },
  {
   "cell_type": "markdown",
   "metadata": {},
   "source": [
    "## 探索"
   ]
  },
  {
   "cell_type": "code",
   "execution_count": 4,
   "metadata": {},
   "outputs": [],
   "source": [
    "import bisect\n",
    "from bisect import bisect_left\n",
    "import itertools"
   ]
  },
  {
   "cell_type": "code",
   "execution_count": 5,
   "metadata": {},
   "outputs": [],
   "source": [
    "def word_exists(wordlist, word_fragment):\n",
    "    if wordlist[bisect_left(wordlist, word_fragment)].startswith(word_fragment):\n",
    "        print(ans[bisect_left(wordlist, word_fragment)])"
   ]
  },
  {
   "cell_type": "code",
   "execution_count": 6,
   "metadata": {},
   "outputs": [
    {
     "ename": "NameError",
     "evalue": "name 'wordlist' is not defined",
     "output_type": "error",
     "traceback": [
      "\u001b[0;31m---------------------------------------------------------------------------\u001b[0m",
      "\u001b[0;31mNameError\u001b[0m                                 Traceback (most recent call last)",
      "\u001b[0;32m<ipython-input-6-093e7cf8748a>\u001b[0m in \u001b[0;36m<module>\u001b[0;34m\u001b[0m\n\u001b[0;32m----> 1\u001b[0;31m \u001b[0mword_exists\u001b[0m\u001b[0;34m(\u001b[0m\u001b[0mwordlist\u001b[0m\u001b[0;34m,\u001b[0m \u001b[0mtarget\u001b[0m\u001b[0;34m)\u001b[0m\u001b[0;34m\u001b[0m\u001b[0m\n\u001b[0m",
      "\u001b[0;31mNameError\u001b[0m: name 'wordlist' is not defined"
     ]
    }
   ],
   "source": [
    "word_exists(wordlist, target)"
   ]
  },
  {
   "cell_type": "code",
   "execution_count": 61,
   "metadata": {},
   "outputs": [
    {
     "data": {
      "text/plain": [
       "9597"
      ]
     },
     "execution_count": 61,
     "metadata": {},
     "output_type": "execute_result"
    }
   ],
   "source": [
    "bisect_left(wordlist, target)"
   ]
  },
  {
   "cell_type": "markdown",
   "metadata": {},
   "source": [
    "## 実験セル"
   ]
  },
  {
   "cell_type": "code",
   "execution_count": 203,
   "metadata": {},
   "outputs": [
    {
     "name": "stdout",
     "output_type": "stream",
     "text": [
      "['bcddegklmpqstuux', 'bcddegklmpqstuuz', 'bcddegklmpqstuxz', 'bcddegklmpqstuxz', 'bcddegklmpqsuuxz', 'bcddegklmpqtuuxz', 'bcddegklmpstuuxz', 'bcddegklmqstuuxz', 'bcddegklpqstuuxz', 'bcddegkmpqstuuxz', 'bcddeglmpqstuuxz', 'bcddeklmpqstuuxz', 'bcddgklmpqstuuxz', 'bcdegklmpqstuuxz', 'bcdegklmpqstuuxz', 'bddegklmpqstuuxz', 'cddegklmpqstuuxz']\n"
     ]
    }
   ],
   "source": [
    "# 実験セル\n",
    "kouholist = []\n",
    "kouholist = make_kouho(target, 16)\n",
    "print(kouholist)"
   ]
  },
  {
   "cell_type": "code",
   "execution_count": 163,
   "metadata": {},
   "outputs": [
    {
     "name": "stdout",
     "output_type": "stream",
     "text": [
      "transcending\n",
      "transcending\n",
      "transcending\n",
      "transcending\n"
     ]
    }
   ],
   "source": [
    "for kouho in kouholist:\n",
    "    word_exists(wordlist, kouho)"
   ]
  },
  {
   "cell_type": "markdown",
   "metadata": {},
   "source": [
    "## まとめる"
   ]
  },
  {
   "cell_type": "code",
   "execution_count": 40,
   "metadata": {},
   "outputs": [],
   "source": [
    "import pandas as pd\n",
    "import itertools\n",
    "from bisect import bisect_left"
   ]
  },
  {
   "cell_type": "code",
   "execution_count": 41,
   "metadata": {},
   "outputs": [],
   "source": [
    "dictionary = pd.read_csv('master_dictionary.csv')\n",
    "wordlist = list(dictionary['Changed'])\n",
    "ans = list(dictionary['Word'])"
   ]
  },
  {
   "cell_type": "code",
   "execution_count": 42,
   "metadata": {},
   "outputs": [
    {
     "name": "stdout",
     "output_type": "stream",
     "text": [
      "72412\n"
     ]
    }
   ],
   "source": [
    "print(len(wordlist))"
   ]
  },
  {
   "cell_type": "code",
   "execution_count": 43,
   "metadata": {},
   "outputs": [
    {
     "name": "stdout",
     "output_type": "stream",
     "text": [
      "word pannels:\n",
      "rhjuoiuwbusdpyen\n"
     ]
    }
   ],
   "source": [
    "print(\"word pannels:\")\n",
    "target = list(input())"
   ]
  },
  {
   "cell_type": "code",
   "execution_count": 44,
   "metadata": {},
   "outputs": [],
   "source": [
    "target.sort()\n",
    "target = ''.join(target)"
   ]
  },
  {
   "cell_type": "code",
   "execution_count": 45,
   "metadata": {},
   "outputs": [
    {
     "name": "stdout",
     "output_type": "stream",
     "text": [
      "bdehijnoprsuuuwy\n"
     ]
    },
    {
     "data": {
      "text/plain": [
       "'bdehijnoprsuuuwy'"
      ]
     },
     "execution_count": 45,
     "metadata": {},
     "output_type": "execute_result"
    }
   ],
   "source": [
    "print(target)\n",
    "target"
   ]
  },
  {
   "cell_type": "code",
   "execution_count": 46,
   "metadata": {},
   "outputs": [],
   "source": [
    "def make_kouho(pannel, num):\n",
    "    kouho = []\n",
    "    for x in itertools.combinations(pannel, num):\n",
    "        #後で直す　Qをskip\n",
    "        if 'q' not in x:\n",
    "            kouho.append(''.join(x))\n",
    "    return kouho"
   ]
  },
  {
   "cell_type": "code",
   "execution_count": 292,
   "metadata": {},
   "outputs": [],
   "source": [
    "def word_exists(wordlist, word_fragment, flag):\n",
    "    # ここのエラーbisectがわかってなくて出てる感ある\n",
    "    if bisect_left(wordlist, word_fragment) != len(wordlist):\n",
    "        if wordlist[bisect_left(wordlist, word_fragment)] == word_fragment:\n",
    "            print(ans[bisect_left(wordlist, word_fragment)])\n",
    "            flag = True\n",
    "            return flag"
   ]
  },
  {
   "cell_type": "code",
   "execution_count": 47,
   "metadata": {},
   "outputs": [],
   "source": [
    "def word_exists2(wordlist, word_fragment, answerlist, scorelist):\n",
    "    # ここのエラーbisectがわかってなくて出てる感ある\n",
    "    if bisect_left(wordlist, word_fragment) != len(wordlist):\n",
    "        \n",
    "        if wordlist[bisect_left(wordlist, word_fragment)] == word_fragment:\n",
    "            #print(ans[bisect_left(wordlist, word_fragment)])\n",
    "            if ans[bisect_left(wordlist, word_fragment)] not in answerlist:\n",
    "                scorelist.append((calc_score(word_fragment)))\n",
    "                answerlist.append(ans[bisect_left(wordlist, word_fragment)])\n",
    "                #print(answerlist)\n",
    "            #flag = True\n",
    "            #return flag\n",
    "            return answerlist, scorelist"
   ]
  },
  {
   "cell_type": "code",
   "execution_count": 48,
   "metadata": {},
   "outputs": [],
   "source": [
    "answerlist = []\n",
    "scorelist = []"
   ]
  },
  {
   "cell_type": "code",
   "execution_count": 49,
   "metadata": {},
   "outputs": [],
   "source": [
    "def calc_score(word_fragment):\n",
    "    fragment = list(word_fragment)\n",
    "    score = 1\n",
    "    score_one = ['a', 'b', 'd', 'e', 'g', 'i', 'n', 'o', 'r', 's', 't', 'u']\n",
    "    score_two = ['c', 'f', 'h', 'l', 'm', 'p', 'v', 'w', 'y']\n",
    "    score_three = ['j', 'k', 'q', 'x', 'z']\n",
    "    score += sum([fragment.count(w) for w in score_one])\n",
    "    score += sum([fragment.count(w)*2 for w in score_two])\n",
    "    score += sum([fragment.count(w)*3 for w in score_three])\n",
    "    return score**2"
   ]
  },
  {
   "cell_type": "code",
   "execution_count": 50,
   "metadata": {},
   "outputs": [],
   "source": [
    "def make_word(pannel):\n",
    "    for i in range(16, 1, -1):\n",
    "        #print(\"=========\" + str(i)+ \"=========\")\n",
    "        kouholist = make_kouho(pannel, i)\n",
    "        for kouho in kouholist:\n",
    "            #if flag==True:\n",
    "                #break\n",
    "            #flag = word_exists2(wordlist, kouho, flag, answerlist)\n",
    "            #word_exists2(wordlist, kouho, flag, answerlist, scorelist)\n",
    "            word_exists2(wordlist, kouho, answerlist, scorelist)\n",
    "        #if flag==True:\n",
    "            #break\n",
    "    return answerlist, scorelist"
   ]
  },
  {
   "cell_type": "code",
   "execution_count": 51,
   "metadata": {},
   "outputs": [
    {
     "name": "stdout",
     "output_type": "stream",
     "text": [
      "worshiped\n"
     ]
    }
   ],
   "source": [
    "#flag = False\n",
    "answerlist, scorelist = make_word(target)\n",
    "print(answerlist[scorelist.index(max(scorelist))])"
   ]
  },
  {
   "cell_type": "code",
   "execution_count": 52,
   "metadata": {},
   "outputs": [
    {
     "name": "stdout",
     "output_type": "stream",
     "text": [
      "846\n",
      "846\n"
     ]
    }
   ],
   "source": [
    "print(len(answerlist))\n",
    "print(len(scorelist))"
   ]
  }
 ],
 "metadata": {
  "kernelspec": {
   "display_name": "Python 3",
   "language": "python",
   "name": "python3"
  },
  "language_info": {
   "codemirror_mode": {
    "name": "ipython",
    "version": 3
   },
   "file_extension": ".py",
   "mimetype": "text/x-python",
   "name": "python",
   "nbconvert_exporter": "python",
   "pygments_lexer": "ipython3",
   "version": "3.6.2"
  }
 },
 "nbformat": 4,
 "nbformat_minor": 2
}
