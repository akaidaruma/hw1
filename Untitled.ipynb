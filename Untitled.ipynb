{
 "cells": [
  {
   "cell_type": "code",
   "execution_count": 1,
   "metadata": {},
   "outputs": [],
   "source": [
    "import pandas as pd"
   ]
  },
  {
   "cell_type": "code",
   "execution_count": 3,
   "metadata": {},
   "outputs": [
    {
     "name": "stdout",
     "output_type": "stream",
     "text": [
      "             Word         Changed\n",
      "0     abracadabra     aaaaabbcdrr\n",
      "1     Mahabharata     aaaaabhhmrt\n",
      "2     Guadalajara     aaaaadgjlru\n",
      "3  baccalaureates  aaaabcceelrstu\n",
      "4   baccalaureate   aaaabcceelrtu\n"
     ]
    }
   ],
   "source": [
    "dictionary = pd.read_csv('master_dictionary.csv')\n",
    "print(dictionary.head(5))"
   ]
  },
  {
   "cell_type": "code",
   "execution_count": 36,
   "metadata": {},
   "outputs": [],
   "source": [
    "wordlist = list(dictionary['Changed'])\n",
    "ans = list(dictionary['Word'])"
   ]
  },
  {
   "cell_type": "code",
   "execution_count": 57,
   "metadata": {},
   "outputs": [
    {
     "name": "stdout",
     "output_type": "stream",
     "text": [
      "word pannels:\n",
      "isoqufwpdezojfiba\n"
     ]
    }
   ],
   "source": [
    "print(\"word pannels:\")\n",
    "target = list(input())"
   ]
  },
  {
   "cell_type": "code",
   "execution_count": 58,
   "metadata": {},
   "outputs": [],
   "source": [
    "target.sort()"
   ]
  },
  {
   "cell_type": "code",
   "execution_count": 59,
   "metadata": {},
   "outputs": [
    {
     "name": "stdout",
     "output_type": "stream",
     "text": [
      "abdeffiijoopqsuwz\n"
     ]
    }
   ],
   "source": [
    "target = ''.join(target)\n",
    "print(target)"
   ]
  },
  {
   "cell_type": "code",
   "execution_count": 18,
   "metadata": {},
   "outputs": [],
   "source": [
    "import bisect"
   ]
  },
  {
   "cell_type": "code",
   "execution_count": 24,
   "metadata": {},
   "outputs": [],
   "source": [
    "from bisect import bisect_left"
   ]
  },
  {
   "cell_type": "code",
   "execution_count": 56,
   "metadata": {},
   "outputs": [],
   "source": [
    "def word_exists(wordlist, word_fragment):\n",
    "    if wordlist[bisect_left(wordlist, word_fragment)].startswith(word_fragment):\n",
    "        print(ans[bisect_left(wordlist, word_fragment)])\n",
    "    else:\n",
    "        print(\"No answer\")"
   ]
  },
  {
   "cell_type": "code",
   "execution_count": 60,
   "metadata": {},
   "outputs": [
    {
     "name": "stdout",
     "output_type": "stream",
     "text": [
      "No answer\n"
     ]
    }
   ],
   "source": [
    "word_exists(wordlist, target)"
   ]
  },
  {
   "cell_type": "code",
   "execution_count": 61,
   "metadata": {},
   "outputs": [
    {
     "data": {
      "text/plain": [
       "9597"
      ]
     },
     "execution_count": 61,
     "metadata": {},
     "output_type": "execute_result"
    }
   ],
   "source": [
    "bisect_left(wordlist, target)"
   ]
  },
  {
   "cell_type": "code",
   "execution_count": 64,
   "metadata": {},
   "outputs": [
    {
     "data": {
      "text/plain": [
       "'/Users/nannananna09/work/arihon/STEP/CLASS1'"
      ]
     },
     "execution_count": 64,
     "metadata": {},
     "output_type": "execute_result"
    }
   ],
   "source": [
    "%pwd"
   ]
  },
  {
   "cell_type": "code",
   "execution_count": 67,
   "metadata": {},
   "outputs": [
    {
     "name": "stdout",
     "output_type": "stream",
     "text": [
      "['/Library/Frameworks/Python.framework/Versions/3.6/lib/python36.zip',\n",
      " '/Library/Frameworks/Python.framework/Versions/3.6/lib/python3.6',\n",
      " '/Library/Frameworks/Python.framework/Versions/3.6/lib/python3.6/lib-dynload',\n",
      " '',\n",
      " '/Users/nannananna09/work/arihon/lib/python3.6/site-packages',\n",
      " '/Users/nannananna09/work/arihon/lib/python3.6/site-packages/IPython/extensions',\n",
      " '/Users/nannananna09/.ipython']\n"
     ]
    }
   ],
   "source": [
    "import sys, os\n",
    "import pprint\n",
    "pprint.pprint(sys.path)"
   ]
  },
  {
   "cell_type": "code",
   "execution_count": null,
   "metadata": {},
   "outputs": [],
   "source": []
  }
 ],
 "metadata": {
  "kernelspec": {
   "display_name": "Python 3",
   "language": "python",
   "name": "python3"
  },
  "language_info": {
   "codemirror_mode": {
    "name": "ipython",
    "version": 3
   },
   "file_extension": ".py",
   "mimetype": "text/x-python",
   "name": "python",
   "nbconvert_exporter": "python",
   "pygments_lexer": "ipython3",
   "version": "3.6.2"
  }
 },
 "nbformat": 4,
 "nbformat_minor": 2
}
